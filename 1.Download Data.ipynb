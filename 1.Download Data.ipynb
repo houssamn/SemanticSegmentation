{
 "cells": [
  {
   "cell_type": "markdown",
   "metadata": {},
   "source": [
    "## Use Annotations File to find and download masks and images from Open Images V6"
   ]
  },
  {
   "cell_type": "code",
   "execution_count": 1,
   "metadata": {},
   "outputs": [],
   "source": [
    "import glob\n",
    "import pandas as pd\n",
    "import os\n",
    "import wget\n",
    "import cv2\n",
    "import matplotlib.pyplot as plt\n",
    "import shutil \n",
    "\n",
    "train_mask_dir = \"train_masks\"\n",
    "train_images_dir = \"train_images\"\n",
    "\n",
    "class_table = pd.read_csv(\"class-descriptions-boxable.csv\", header=None)\n",
    "class_to_label = class_table.set_index(1).to_dict()[0] # Friendly Name to ID\n",
    "label_to_class = class_table.set_index(0).to_dict()[1] # ID to Friendly Name\n",
    "\n",
    "annotations = pd.read_csv(\"train-annotations-object-segmentation.csv\")\n",
    "image_ids = pd.read_csv(\"train-images-boxable-with-rotation.csv\")"
   ]
  },
  {
   "cell_type": "code",
   "execution_count": 2,
   "metadata": {},
   "outputs": [
    {
     "name": "stderr",
     "output_type": "stream",
     "text": [
      "/opt/anaconda3/lib/python3.7/site-packages/ipykernel_launcher.py:4: SettingWithCopyWarning: \n",
      "A value is trying to be set on a copy of a slice from a DataFrame.\n",
      "Try using .loc[row_indexer,col_indexer] = value instead\n",
      "\n",
      "See the caveats in the documentation: http://pandas.pydata.org/pandas-docs/stable/user_guide/indexing.html#returning-a-view-versus-a-copy\n",
      "  after removing the cwd from sys.path.\n"
     ]
    }
   ],
   "source": [
    "# Get the Train-0 images\n",
    "train_0 = annotations.loc[annotations.MaskPath.map(lambda x : x[0]) == '0']\n",
    "# Add a Nice Label Column\n",
    "train_0['NiceLabel'] = train_0['LabelName'].map(label_to_class)"
   ]
  },
  {
   "cell_type": "code",
   "execution_count": 3,
   "metadata": {},
   "outputs": [],
   "source": [
    "# Get only the car masks\n",
    "selected_classes = ['Car']\n",
    "\n",
    "df = train_0.loc[train_0.NiceLabel.isin(selected_classes)]"
   ]
  },
  {
   "cell_type": "code",
   "execution_count": 4,
   "metadata": {},
   "outputs": [
    {
     "data": {
      "text/plain": [
       "(11093, 11)"
      ]
     },
     "execution_count": 4,
     "metadata": {},
     "output_type": "execute_result"
    }
   ],
   "source": [
    "df.shape"
   ]
  },
  {
   "cell_type": "code",
   "execution_count": 5,
   "metadata": {},
   "outputs": [
    {
     "name": "stderr",
     "output_type": "stream",
     "text": [
      "/opt/anaconda3/lib/python3.7/site-packages/ipykernel_launcher.py:9: SettingWithCopyWarning: \n",
      "A value is trying to be set on a copy of a slice from a DataFrame.\n",
      "Try using .loc[row_indexer,col_indexer] = value instead\n",
      "\n",
      "See the caveats in the documentation: http://pandas.pydata.org/pandas-docs/stable/user_guide/indexing.html#returning-a-view-versus-a-copy\n",
      "  if __name__ == '__main__':\n"
     ]
    }
   ],
   "source": [
    "# Choose a box that occupies between 10% and 80% of the screen \n",
    "min_perc = 10\n",
    "max_perc = 80\n",
    "\n",
    "# Helper Function to calculate the Area  occupied by a mask\n",
    "def find_area(x):\n",
    "    return 100*(x['BoxXMax'] - x['BoxXMin'])*(x['BoxYMax']-x['BoxYMin'])\n",
    "\n",
    "df['Area'] = df.apply(lambda x : find_area(x), axis=1)\n",
    "df = df.loc[(df['Area'] < max_perc)]\n",
    "df = df.loc[(df['Area'] > min_perc)]"
   ]
  },
  {
   "cell_type": "code",
   "execution_count": 6,
   "metadata": {},
   "outputs": [],
   "source": [
    "# Filter to items with a predicted IoU of 100\n",
    "df = df.loc[df.PredictedIoU > 0.8]"
   ]
  },
  {
   "cell_type": "code",
   "execution_count": 7,
   "metadata": {},
   "outputs": [],
   "source": [
    "# Remove Images with multiple masks\n",
    "mask_counts = df.groupby(\"ImageID\")['MaskPath'].count().reset_index()\n",
    "single_mask = mask_counts[mask_counts['MaskPath'] < 2]\n",
    "df = pd.merge(df, single_mask[['ImageID']], 'inner')\n",
    "df['SavedMaskPath'] = \"\""
   ]
  },
  {
   "cell_type": "code",
   "execution_count": 8,
   "metadata": {},
   "outputs": [],
   "source": [
    "# Copy Files nested under their own labels\n",
    "\n",
    "for index, row in df.iterrows():\n",
    "    sub_directory = os.path.join(train_mask_dir, row['NiceLabel'])\n",
    "    if(not os.path.exists(sub_directory)):\n",
    "        os.mkdir(sub_directory)\n",
    "    \n",
    "    from_path = os.path.join(train_mask_dir, row['MaskPath'])\n",
    "    extension = row['MaskPath'].split(\".\")[-1]\n",
    "    to_path = os.path.join(sub_directory, row['ImageID'] + \".\" + extension)\n",
    "    df.loc[index, 'SavedMaskPath'] =to_path # Record where this mask was copied to\n",
    "\n",
    "    shutil.copy(from_path, to_path)    "
   ]
  },
  {
   "cell_type": "code",
   "execution_count": 9,
   "metadata": {},
   "outputs": [],
   "source": [
    "# Download the corresponding Images\n",
    "image_ids = image_ids[['ImageID', 'OriginalURL']]"
   ]
  },
  {
   "cell_type": "code",
   "execution_count": 10,
   "metadata": {},
   "outputs": [],
   "source": [
    "df_url = pd.merge(df, image_ids, 'left')"
   ]
  },
  {
   "cell_type": "code",
   "execution_count": 11,
   "metadata": {},
   "outputs": [
    {
     "name": "stdout",
     "output_type": "stream",
     "text": [
      "Error downloading : https://farm1.staticflickr.com/7406/13009477864_98f92a82d9_o.jpg. Skipping .. \n",
      "Error downloading : https://c6.staticflickr.com/9/8679/16016377644_17b9f1e5c8_o.jpg. Skipping .. \n",
      "Error downloading : https://c4.staticflickr.com/4/3682/13926511676_83d4a35225_o.jpg. Skipping .. \n",
      "Error downloading : https://farm2.staticflickr.com/7381/13474706873_a480bc959a_o.jpg. Skipping .. \n",
      "Error downloading : https://c7.staticflickr.com/4/3861/14487317826_95f3f37a86_o.jpg. Skipping .. \n",
      "Error downloading : https://c2.staticflickr.com/6/5084/14054625264_51b110efa4_o.jpg. Skipping .. \n",
      "Error downloading : https://c8.staticflickr.com/8/7024/6477032823_7339f79b0c_o.jpg. Skipping .. \n",
      "Error downloading : https://farm7.staticflickr.com/2259/2200305022_e6ba827187_o.jpg. Skipping .. \n",
      "Error downloading : https://c7.staticflickr.com/3/2158/2199510313_4f805a762a_o.jpg. Skipping .. \n",
      "Error downloading : https://c6.staticflickr.com/9/8609/16087686589_f9141b0be5_o.jpg. Skipping .. \n",
      "Error downloading : https://farm8.staticflickr.com/1043/893957017_d0ddd9f5b4_o.jpg. Skipping .. \n",
      "Error downloading : https://farm5.staticflickr.com/7703/17276821455_b5cb3b8deb_o.jpg. Skipping .. \n",
      "Error downloading : https://c5.staticflickr.com/3/2002/5797005019_b17c52c723_o.jpg. Skipping .. \n",
      "Error downloading : https://farm2.staticflickr.com/7059/7072563137_d62a54fe0d_o.jpg. Skipping .. \n",
      "Error downloading : https://c7.staticflickr.com/4/3837/15032992947_0084e26e31_o.jpg. Skipping .. \n",
      "Error downloading : https://c5.staticflickr.com/5/4148/4956726337_dcfbeb2e4f_o.jpg. Skipping .. \n",
      "Error downloading : https://farm2.staticflickr.com/7519/15574149223_f5f9de5b08_o.jpg. Skipping .. \n",
      "Error downloading : https://farm7.staticflickr.com/3015/2549783609_09b078c801_o.jpg. Skipping .. \n",
      "Error downloading : https://c1.staticflickr.com/6/5520/14399732386_5fd1fc2572_o.jpg. Skipping .. \n",
      "Error downloading : https://c4.staticflickr.com/8/7006/6556948995_e071f4d317_o.jpg. Skipping .. \n",
      "Error downloading : https://c5.staticflickr.com/4/3798/8833563386_dd7d764804_o.jpg. Skipping .. \n",
      "Error downloading : https://farm8.staticflickr.com/7514/16272889102_3ffed16cb0_o.jpg. Skipping .. \n",
      "Error downloading : https://c2.staticflickr.com/1/86/242292797_29d8a3f7c0_o.jpg. Skipping .. \n",
      "Error downloading : https://farm7.staticflickr.com/3400/3183980130_44b9db2b07_o.jpg. Skipping .. \n",
      "Error downloading : https://c6.staticflickr.com/1/321/19750152540_3ef281e696_o.jpg. Skipping .. \n",
      "Error downloading : https://farm5.staticflickr.com/7311/9347825720_2f778b81be_o.jpg. Skipping .. \n",
      "Error downloading : https://farm6.staticflickr.com/3738/9760256821_1721f0cc6d_o.jpg. Skipping .. \n",
      "Error downloading : https://farm3.staticflickr.com/7311/12023971864_3b347faf4f_o.jpg. Skipping .. \n",
      "Error downloading : https://c5.staticflickr.com/8/7087/6996850190_828450935c_o.jpg. Skipping .. \n",
      "Error downloading : https://farm8.staticflickr.com/2941/15180115309_51444865b2_o.jpg. Skipping .. \n",
      "Error downloading : https://farm1.staticflickr.com/7428/16176947277_b3173e0228_o.jpg. Skipping .. \n",
      "Error downloading : https://farm7.staticflickr.com/2920/13650090903_9c47af55ba_o.jpg. Skipping .. \n",
      "Error downloading : https://farm5.staticflickr.com/4082/5413157462_8d9a2f2677_o.jpg. Skipping .. \n",
      "Error downloading : https://farm5.staticflickr.com/7403/8730546049_e971989549_o.jpg. Skipping .. \n",
      "Error downloading : https://c5.staticflickr.com/4/3668/9756824875_899d052af8_o.jpg. Skipping .. \n",
      "Error downloading : https://c2.staticflickr.com/4/3009/2914830072_75bf66088d_o.jpg. Skipping .. \n",
      "Error downloading : https://farm4.staticflickr.com/6065/6084042510_064cec57f5_o.jpg. Skipping .. \n",
      "Error downloading : https://farm1.staticflickr.com/3031/2485043313_41808562d6_o.jpg. Skipping .. \n",
      "Error downloading : https://farm4.staticflickr.com/46/151856466_b5865e3aeb_o.jpg. Skipping .. \n",
      "Error downloading : https://farm8.staticflickr.com/8497/8315176487_1e6072ae07_o.jpg. Skipping .. \n",
      "Error downloading : https://c7.staticflickr.com/2/1403/3352936637_858ed4b764_o.jpg. Skipping .. \n",
      "Error downloading : https://c8.staticflickr.com/6/5214/5520231349_cbd1761beb_o.jpg. Skipping .. \n",
      "Error downloading : https://c7.staticflickr.com/4/3701/9585792542_f15ed10321_o.jpg. Skipping .. \n",
      "Error downloading : https://c8.staticflickr.com/9/8597/15909849213_a94f1b2c9f_o.jpg. Skipping .. \n",
      "Error downloading : https://c1.staticflickr.com/3/2638/3838475800_ef49415ff4_o.jpg. Skipping .. \n",
      "Error downloading : https://c2.staticflickr.com/7/6154/6152109599_5957681edd_o.jpg. Skipping .. \n",
      "Error downloading : https://farm6.staticflickr.com/8393/8669657075_b2caafd5a9_o.jpg. Skipping .. \n",
      "Error downloading : https://farm1.staticflickr.com/4091/4836741713_0f2e9626d5_o.jpg. Skipping .. \n",
      "Error downloading : https://farm8.staticflickr.com/7391/12468414774_444b3803d7_o.jpg. Skipping .. \n",
      "Error downloading : https://c2.staticflickr.com/1/27/49195670_b6195f4ded_o.jpg. Skipping .. \n",
      "Error downloading : https://c5.staticflickr.com/6/5100/5575722803_3f4ace5135_o.jpg. Skipping .. \n",
      "Error downloading : https://farm4.staticflickr.com/303/18593094252_61da13967a_o.jpg. Skipping .. \n",
      "Error downloading : https://c5.staticflickr.com/4/3614/3293604184_bcd2b7c730_o.jpg. Skipping .. \n",
      "Error downloading : https://farm1.staticflickr.com/6097/6341783419_a28177ca90_o.jpg. Skipping .. \n",
      "Error downloading : https://farm6.staticflickr.com/3673/9728377712_088e1e87cb_o.jpg. Skipping .. \n",
      "Error downloading : https://farm4.staticflickr.com/1271/5182300820_16ee1bf3ea_o.jpg. Skipping .. \n",
      "Error downloading : https://c1.staticflickr.com/9/8589/16627686611_451bb69dc5_o.jpg. Skipping .. \n",
      "Error downloading : https://farm5.staticflickr.com/3956/15391949387_ed6fc93038_o.jpg. Skipping .. \n",
      "Error downloading : https://c6.staticflickr.com/8/7254/7590520662_3b650946b0_o.jpg. Skipping .. \n",
      "Error downloading : https://c2.staticflickr.com/4/3469/3371656304_5ee50e0d57_o.jpg. Skipping .. \n",
      "Error downloading : https://c8.staticflickr.com/9/8104/8576425919_d097211eeb_o.jpg. Skipping .. \n",
      "Error downloading : https://farm6.staticflickr.com/3909/14275074397_4d6c367e13_o.jpg. Skipping .. \n",
      "Error downloading : https://farm2.staticflickr.com/5129/5289027110_2ef389c11f_o.jpg. Skipping .. \n",
      "Error downloading : https://farm3.staticflickr.com/52/151844644_28f97a4785_o.jpg. Skipping .. \n",
      "Error downloading : https://farm1.staticflickr.com/3901/14168763048_5d6bd1ec74_o.jpg. Skipping .. \n",
      "Error downloading : https://farm3.staticflickr.com/6145/5937113628_9f00a58ceb_o.jpg. Skipping .. \n",
      "Error downloading : https://farm8.staticflickr.com/272/18410509040_69410b2a1b_o.jpg. Skipping .. \n",
      "Error downloading : https://c3.staticflickr.com/4/3862/15021345868_379344745d_o.jpg. Skipping .. \n",
      "Error downloading : https://farm7.staticflickr.com/7188/7147333471_57bfcd2402_o.jpg. Skipping .. \n",
      "Error downloading : https://c4.staticflickr.com/1/74/179084724_03121fbe5d_o.jpg. Skipping .. \n",
      "Error downloading : https://farm7.staticflickr.com/3737/13650587695_dc9806e54c_o.jpg. Skipping .. \n",
      "Error downloading : https://farm3.staticflickr.com/3830/9468094555_3581ea8950_o.jpg. Skipping .. \n",
      "Error downloading : https://c2.staticflickr.com/4/3859/15225196112_70c42670ba_o.jpg. Skipping .. \n",
      "Error downloading : https://farm3.staticflickr.com/3836/14497123986_aeb75b8b30_o.jpg. Skipping .. \n",
      "Error downloading : https://c4.staticflickr.com/1/44/120398673_a28d7fcb7b_o.jpg. Skipping .. \n",
      "Error downloading : https://farm4.staticflickr.com/302/20484742452_5de89130fb_o.jpg. Skipping .. \n",
      "Error downloading : https://c3.staticflickr.com/3/2858/10988536484_cc9200c477_o.jpg. Skipping .. \n",
      "Error downloading : https://farm7.staticflickr.com/5562/13516908665_40613452d6_o.jpg. Skipping .. \n",
      "Error downloading : https://farm7.staticflickr.com/1182/4610037164_28cae8f3eb_o.jpg. Skipping .. \n",
      "Error downloading : https://c4.staticflickr.com/8/7142/13890229035_c2166d5e50_o.jpg. Skipping .. \n",
      "Error downloading : https://farm7.staticflickr.com/263/18593463252_6a06b1d7d6_o.jpg. Skipping .. \n",
      "Error downloading : https://farm1.staticflickr.com/5568/15265486736_8d93499524_o.jpg. Skipping .. \n",
      "Error downloading : https://farm7.staticflickr.com/2880/13331451844_94c5bb65e6_o.jpg. Skipping .. \n",
      "Error downloading : https://farm5.staticflickr.com/87/242322404_11c5f365a9_o.jpg. Skipping .. \n",
      "Error downloading : https://c8.staticflickr.com/8/7590/16618222189_a22056ed72_o.jpg. Skipping .. \n",
      "Error downloading : https://c5.staticflickr.com/3/2923/14399699580_77d8c7a0f3_o.jpg. Skipping .. \n",
      "Error downloading : https://farm6.staticflickr.com/8174/7990326867_ae3b907a93_o.jpg. Skipping .. \n",
      "Error downloading : https://farm4.staticflickr.com/3942/15620954621_88d32c95e0_o.jpg. Skipping .. \n",
      "Error downloading : https://c2.staticflickr.com/4/3872/14350965718_519f1b59aa_o.jpg. Skipping .. \n",
      "Error downloading : https://farm2.staticflickr.com/5714/20105308384_e7c5027d4d_o.jpg. Skipping .. \n",
      "Error downloading : https://farm5.staticflickr.com/5051/5400721161_33cfcf4ca8_o.jpg. Skipping .. \n",
      "Error downloading : https://c3.staticflickr.com/1/87/242322072_a3a479624f_o.jpg. Skipping .. \n",
      "Error downloading : https://farm7.staticflickr.com/339/19195769573_c70daf116b_o.jpg. Skipping .. \n",
      "Error downloading : https://c4.staticflickr.com/4/3861/14351003008_d37ac9b741_o.jpg. Skipping .. \n",
      "Error downloading : https://c7.staticflickr.com/9/8752/16834668370_6218587a32_o.jpg. Skipping .. \n",
      "Error downloading : https://c4.staticflickr.com/2/1019/527489144_2bc44d9185_o.jpg. Skipping .. \n",
      "Error downloading : https://farm1.staticflickr.com/5548/10813631005_c8b4d02222_o.jpg. Skipping .. \n",
      "Error downloading : https://c5.staticflickr.com/9/8038/7987627414_b6626f4b53_o.jpg. Skipping .. \n",
      "Error downloading : https://farm2.staticflickr.com/3756/14236276236_5140c57aa5_o.jpg. Skipping .. \n",
      "Error downloading : https://c3.staticflickr.com/2/1039/5178657906_d5ce4623c1_o.jpg. Skipping .. \n",
      "Error downloading : https://farm4.staticflickr.com/8743/17275215662_ed4def4f54_o.jpg. Skipping .. \n",
      "Error downloading : https://farm6.staticflickr.com/7470/15483708114_30fd119bc2_o.jpg. Skipping .. \n",
      "Error downloading : https://c2.staticflickr.com/4/3907/14593881803_5ff645a238_o.jpg. Skipping .. \n",
      "Error downloading : https://c2.staticflickr.com/4/3104/13064939925_e692040efe_o.jpg. Skipping .. \n",
      "Error downloading : https://c5.staticflickr.com/9/8519/8559330652_35a4a9d0f4_o.jpg. Skipping .. \n",
      "Error downloading : https://c2.staticflickr.com/4/3851/14552319408_00468d3df9_o.jpg. Skipping .. \n",
      "Error downloading : https://c4.staticflickr.com/8/7300/13517679013_48f3fb3701_o.jpg. Skipping .. \n",
      "Error downloading : https://farm5.staticflickr.com/2013/2199576705_7359853d72_o.jpg. Skipping .. \n",
      "Error downloading : https://c4.staticflickr.com/1/115/297182203_dc4663070a_o.jpg. Skipping .. \n",
      "Error downloading : https://farm4.staticflickr.com/3890/15202140527_1b2d86d1d9_o.jpg. Skipping .. \n",
      "Error downloading : https://farm5.staticflickr.com/3494/3997700954_5ed6288fb2_o.jpg. Skipping .. \n",
      "Error downloading : https://farm3.staticflickr.com/463/20210704031_d585e150be_o.jpg. Skipping .. \n",
      "Error downloading : https://farm5.staticflickr.com/3862/14327489567_207b8df977_o.jpg. Skipping .. \n",
      "Error downloading : https://farm7.staticflickr.com/6017/5998184668_f54683a46b_o.jpg. Skipping .. \n",
      "Error downloading : https://c4.staticflickr.com/3/2140/2387387745_e1ed8eae05_o.jpg. Skipping .. \n",
      "Error downloading : https://farm6.staticflickr.com/8487/8238463411_901ffebbab_o.jpg. Skipping .. \n",
      "Error downloading : https://farm1.staticflickr.com/3162/2734961950_b1dbeb2cd7_o.jpg. Skipping .. \n",
      "Error downloading : https://c3.staticflickr.com/3/2849/13249920025_922ede229e_o.jpg. Skipping .. \n",
      "Error downloading : https://farm1.staticflickr.com/2924/14818510104_5f6babb800_o.jpg. Skipping .. \n",
      "Error downloading : https://c5.staticflickr.com/9/8849/17928173824_6270dc0ee1_o.jpg. Skipping .. \n",
      "Error downloading : https://c4.staticflickr.com/3/2337/5776769812_a715a9455a_o.jpg. Skipping .. \n"
     ]
    }
   ],
   "source": [
    "df_url[\"SavedImagePath\"] = \"\"\n",
    "\n",
    "for index, row in df_url.iterrows():\n",
    "    url = row['OriginalURL']\n",
    "    \n",
    "    sub_directory = os.path.join(train_images_dir, row['NiceLabel'])\n",
    "    if(not os.path.exists(sub_directory)):\n",
    "        os.makedirs(sub_directory)\n",
    "        \n",
    "    file_extension = url.split(\".\")[-1] \n",
    "    to_path = os.path.join(sub_directory, row['ImageID'] + \".\" + file_extension)\n",
    "    df_url.loc[index,'SavedImagePath'] = to_path\n",
    "    try:\n",
    "        wget.download(url, to_path)\n",
    "    except:\n",
    "        print(\"Error downloading : {}. Skipping .. \".format(url))"
   ]
  },
  {
   "cell_type": "code",
   "execution_count": 12,
   "metadata": {},
   "outputs": [
    {
     "name": "stdout",
     "output_type": "stream",
     "text": [
      "Purging: train_masks/Car/001bebecea382500.png\n",
      "Purging: train_masks/Car/07589a163639319d.png\n",
      "Purging: train_masks/Car/0ce7c72a1884958b.png\n",
      "Purging: train_masks/Car/03591babb5ec62e1.png\n",
      "Purging: train_masks/Car/0a866aa23de6574e.png\n",
      "Purging: train_masks/Car/08465bc25f701ad9.png\n",
      "Purging: train_masks/Car/0ff98355dac98d8f.png\n",
      "Purging: train_masks/Car/0b165612be073586.png\n",
      "Purging: train_masks/Car/065d85325a3cdc7e.png\n",
      "Purging: train_masks/Car/06bddf70429f2ecd.png\n",
      "Purging: train_masks/Car/043c0cf286a78717.png\n",
      "Purging: train_masks/Car/02cda91e1d91a854.png\n",
      "Purging: train_masks/Car/010e19969436776c.png\n",
      "Purging: train_masks/Car/03447c4a5209f9e1.png\n",
      "Purging: train_masks/Car/089d32b910de47ee.png\n",
      "Purging: train_masks/Car/0d5282dac7aeff9c.png\n",
      "Purging: train_masks/Car/0ef25fa2dbf87b21.png\n",
      "Purging: train_masks/Car/0c53a79917295396.png\n",
      "Purging: train_masks/Car/05bac9358b5c6b98.png\n",
      "Purging: train_masks/Car/0042df4b1aa3cfab.png\n",
      "Purging: train_masks/Car/004b75d1299e653c.png\n",
      "Purging: train_masks/Car/0a0138f4e6de6157.png\n",
      "Purging: train_masks/Car/0beb25cc1b5f6799.png\n",
      "Purging: train_masks/Car/01bc155f58c623e6.png\n",
      "Purging: train_masks/Car/04a67925064f66bd.png\n",
      "Purging: train_masks/Car/0b0408265a2a3e14.png\n",
      "Purging: train_masks/Car/0c61e6bb44f6f635.png\n",
      "Purging: train_masks/Car/0d3a67ec7d04b7d2.png\n",
      "Purging: train_masks/Car/03f81b9cc130712c.png\n",
      "Purging: train_masks/Car/046e9faf92b73fb7.png\n",
      "Purging: train_masks/Car/0354d15279256ad0.png\n",
      "Purging: train_masks/Car/0864d6219359d406.png\n",
      "Purging: train_masks/Car/08132bc2a1f4ba94.png\n",
      "Purging: train_masks/Car/0d91263b6d302534.png\n",
      "Purging: train_masks/Car/072f7f869c327cdc.png\n",
      "Purging: train_masks/Car/0002a5b67e5f0909.png\n",
      "Purging: train_masks/Car/0b6754ba7ea0abb3.png\n",
      "Purging: train_masks/Car/020084a5f245e460.png\n",
      "Purging: train_masks/Car/02280ff206e7c4d3.png\n",
      "Purging: train_masks/Car/0ef8bd33e57079f7.png\n",
      "Purging: train_masks/Car/0b682955c3f6167e.png\n",
      "Purging: train_masks/Car/05f356285300c74f.png\n",
      "Purging: train_masks/Car/05c15907ced2d5fe.png\n",
      "Purging: train_masks/Car/08982de8e04f6f7f.png\n",
      "Purging: train_masks/Car/05939fe77cda8218.png\n",
      "Purging: train_masks/Car/0b85e60181440989.png\n",
      "Purging: train_masks/Car/0342682d45235ee5.png\n",
      "Purging: train_masks/Car/0fb420f2bb8d7100.png\n",
      "Purging: train_masks/Car/061f769f7f787d57.png\n",
      "Purging: train_masks/Car/06d84d368d9c3c09.png\n",
      "Purging: train_masks/Car/0af82779d83d4acc.png\n",
      "Purging: train_masks/Car/0d319dc867dec9f3.png\n",
      "Purging: train_masks/Car/05e46b6935d4520c.png\n",
      "Purging: train_masks/Car/002271680161a3b0.png\n",
      "Purging: train_masks/Car/0df6bb490adc63c5.png\n",
      "Purging: train_masks/Car/0b209224bef16643.png\n",
      "Purging: train_masks/Car/0045643a1e47a548.png\n",
      "Purging: train_masks/Car/0bf878ff3ea617f4.png\n",
      "Purging: train_masks/Car/0b06fdbf19f6b10d.png\n",
      "Purging: train_masks/Car/07cce5fbd1fe2ef9.png\n",
      "Purging: train_masks/Car/0714e5490e93a11f.png\n",
      "Purging: train_masks/Car/056e386de900aaf5.png\n",
      "Purging: train_masks/Car/0a8680f2a8a708b1.png\n",
      "Purging: train_masks/Car/028a2619ec9a8132.png\n",
      "Purging: train_masks/Car/0cc6c2bb71cb12c0.png\n",
      "Purging: train_masks/Car/0a990e4cc696acb2.png\n",
      "Purging: train_masks/Car/0a16b30f5b50cbe7.png\n",
      "Purging: train_masks/Car/09dc39f50d46cf1a.png\n",
      "Purging: train_masks/Car/00c4efcca665e2d6.png\n",
      "Purging: train_masks/Car/0e5376d6a567b1bb.png\n",
      "Purging: train_masks/Car/08011f77b4e21826.png\n",
      "Purging: train_masks/Car/087d130641f6e332.png\n",
      "Purging: train_masks/Car/07af3d5ef1126a29.png\n",
      "Purging: train_masks/Car/0aa0051a2ac8ea92.png\n",
      "Purging: train_masks/Car/00516bf08cf0cdeb.png\n",
      "Purging: train_masks/Car/094d9ccd7b0f5c23.png\n",
      "Purging: train_masks/Car/0a61e6f32fb92d1a.png\n",
      "Purging: train_masks/Car/0e685123d1830ce6.png\n",
      "Purging: train_masks/Car/0c0f6c37f432e426.png\n",
      "Purging: train_masks/Car/055d3dda5e9c6e2b.png\n",
      "Purging: train_masks/Car/0692ee754632dac6.png\n",
      "Purging: train_masks/Car/093502847bbf13c0.png\n",
      "Purging: train_masks/Car/0021804a9f9d5db6.png\n",
      "Purging: train_masks/Car/071b1539ae40a794.png\n",
      "Purging: train_masks/Car/0229c1e007345cef.png\n",
      "Purging: train_masks/Car/0666fcda5facadec.png\n",
      "Purging: train_masks/Car/02f59dd2026b0505.png\n",
      "Purging: train_masks/Car/0506084c2c6efed3.png\n",
      "Purging: train_masks/Car/000d8afe68be17b9.png\n",
      "Purging: train_masks/Car/0526b2fd8acd5d71.png\n",
      "Purging: train_masks/Car/080dfc2610152844.png\n",
      "Purging: train_masks/Car/0dbe8716b267967a.png\n",
      "Purging: train_masks/Car/03ab129785942796.png\n",
      "Purging: train_masks/Car/0531bfb935089fab.png\n",
      "Purging: train_masks/Car/004f138ad0d084ae.png\n",
      "Purging: train_masks/Car/0bcc5c3a4a07c38b.png\n",
      "Purging: train_masks/Car/0e5c409c952c60b0.png\n",
      "Purging: train_masks/Car/08e52e8d0352b81c.png\n",
      "Purging: train_masks/Car/06984684d2526111.png\n",
      "Purging: train_masks/Car/085c8babbd2a48ca.png\n",
      "Purging: train_masks/Car/0f05cb72bd47dea3.png\n",
      "Purging: train_masks/Car/026b62380a672c85.png\n",
      "Purging: train_masks/Car/03c907893fc85e79.png\n",
      "Purging: train_masks/Car/0518b39554df3d69.png\n",
      "Purging: train_masks/Car/0e3916914b6831ec.png\n",
      "Purging: train_masks/Car/0a8b81ac4df6ce49.png\n",
      "Purging: train_masks/Car/091a019241ccec8b.png\n",
      "Purging: train_masks/Car/008b2c204cb2b2d4.png\n",
      "Purging: train_masks/Car/082e3a8bf5cc23cb.png\n",
      "Purging: train_masks/Car/08bd4d5961ea3c73.png\n",
      "Purging: train_masks/Car/0ff34967ead30ee4.png\n",
      "Purging: train_masks/Car/0bd4e113794fe652.png\n",
      "Purging: train_masks/Car/0608f03b93a8d644.png\n",
      "Purging: train_masks/Car/086a61829736fa86.png\n",
      "Purging: train_masks/Car/0cb3c55b5471442b.png\n",
      "Purging: train_masks/Car/03f5e13f398ddd95.png\n",
      "Purging: train_masks/Car/07ccaecb806ca990.png\n",
      "Purging: train_masks/Car/052d8098530aa80a.png\n",
      "Purging: train_masks/Car/0a9619176bcc3f40.png\n",
      "Purging: train_masks/Car/01a780223ae283ac.png\n",
      "Purging: train_masks/Car/04762c7cdb6ad9cb.png\n"
     ]
    }
   ],
   "source": [
    "# Consistency Check Remove the Image Mask if the corresponding Image failed to download\n",
    "df_url['Downloaded'] = True\n",
    "\n",
    "for index, row in df_url.iterrows():\n",
    "    if(not os.path.exists(row['SavedImagePath'])):\n",
    "        df_url.loc[index, 'Downloaded'] = False\n",
    "        # Remove the corresponding Mask to free up space\n",
    "        if(os.path.exists(row['SavedMaskPath'])):\n",
    "            print(\"Purging: {}\".format(row['SavedMaskPath']))\n",
    "            os.remove(row['SavedMaskPath'])"
   ]
  },
  {
   "cell_type": "code",
   "execution_count": 13,
   "metadata": {},
   "outputs": [
    {
     "data": {
      "text/plain": [
       "True     1766\n",
       "False     121\n",
       "Name: Downloaded, dtype: int64"
      ]
     },
     "execution_count": 13,
     "metadata": {},
     "output_type": "execute_result"
    }
   ],
   "source": [
    "df_url.Downloaded.value_counts()"
   ]
  },
  {
   "cell_type": "code",
   "execution_count": 14,
   "metadata": {},
   "outputs": [],
   "source": [
    "df_url = df_url.loc[df_url.Downloaded] #  Keep downloaded images only\n",
    "df_url = df_url[[\"SavedImagePath\", \"SavedMaskPath\", \"NiceLabel\"]]"
   ]
  },
  {
   "cell_type": "code",
   "execution_count": 15,
   "metadata": {},
   "outputs": [],
   "source": [
    "# Save Output DataFrame\n",
    "df_url.to_csv(\"dataset_paths.csv\", index=False)"
   ]
  },
  {
   "cell_type": "code",
   "execution_count": null,
   "metadata": {},
   "outputs": [],
   "source": []
  }
 ],
 "metadata": {
  "kernelspec": {
   "display_name": "Python 3",
   "language": "python",
   "name": "python3"
  },
  "language_info": {
   "codemirror_mode": {
    "name": "ipython",
    "version": 3
   },
   "file_extension": ".py",
   "mimetype": "text/x-python",
   "name": "python",
   "nbconvert_exporter": "python",
   "pygments_lexer": "ipython3",
   "version": "3.7.4"
  }
 },
 "nbformat": 4,
 "nbformat_minor": 4
}
